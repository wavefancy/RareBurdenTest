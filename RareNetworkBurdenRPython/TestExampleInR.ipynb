{
 "cells": [
  {
   "cell_type": "code",
   "execution_count": 1,
   "metadata": {},
   "outputs": [],
   "source": [
    "# Test the example in R for the network guided burden test."
   ]
  },
  {
   "cell_type": "code",
   "execution_count": 21,
   "metadata": {},
   "outputs": [
    {
     "name": "stderr",
     "output_type": "stream",
     "text": [
      "Loading required package: zoo\n",
      "\n",
      "Attaching package: ‘zoo’\n",
      "\n",
      "The following objects are masked from ‘package:base’:\n",
      "\n",
      "    as.Date, as.Date.numeric\n",
      "\n"
     ]
    }
   ],
   "source": [
    "library(rio)\n",
    "library(tidyverse)\n",
    "library(lmtest)"
   ]
  },
  {
   "cell_type": "code",
   "execution_count": 4,
   "metadata": {},
   "outputs": [
    {
     "data": {
      "text/html": [
       "<table>\n",
       "<thead><tr><th scope=col>ID</th><th scope=col>COV1</th><th scope=col>COV2</th><th scope=col>PHENO</th></tr></thead>\n",
       "<tbody>\n",
       "\t<tr><td>ID1</td><td>1  </td><td>2  </td><td>0  </td></tr>\n",
       "\t<tr><td>ID3</td><td>2  </td><td>3  </td><td>0  </td></tr>\n",
       "\t<tr><td>ID4</td><td>1  </td><td>3  </td><td>0  </td></tr>\n",
       "\t<tr><td>ID5</td><td>2  </td><td>1  </td><td>1  </td></tr>\n",
       "\t<tr><td>ID2</td><td>0  </td><td>5  </td><td>1  </td></tr>\n",
       "</tbody>\n",
       "</table>\n"
      ],
      "text/latex": [
       "\\begin{tabular}{r|llll}\n",
       " ID & COV1 & COV2 & PHENO\\\\\n",
       "\\hline\n",
       "\t ID1 & 1   & 2   & 0  \\\\\n",
       "\t ID3 & 2   & 3   & 0  \\\\\n",
       "\t ID4 & 1   & 3   & 0  \\\\\n",
       "\t ID5 & 2   & 1   & 1  \\\\\n",
       "\t ID2 & 0   & 5   & 1  \\\\\n",
       "\\end{tabular}\n"
      ],
      "text/markdown": [
       "\n",
       "| ID | COV1 | COV2 | PHENO |\n",
       "|---|---|---|---|\n",
       "| ID1 | 1   | 2   | 0   |\n",
       "| ID3 | 2   | 3   | 0   |\n",
       "| ID4 | 1   | 3   | 0   |\n",
       "| ID5 | 2   | 1   | 1   |\n",
       "| ID2 | 0   | 5   | 1   |\n",
       "\n"
      ],
      "text/plain": [
       "  ID  COV1 COV2 PHENO\n",
       "1 ID1 1    2    0    \n",
       "2 ID3 2    3    0    \n",
       "3 ID4 1    3    0    \n",
       "4 ID5 2    1    1    \n",
       "5 ID2 0    5    1    "
      ]
     },
     "metadata": {},
     "output_type": "display_data"
    }
   ],
   "source": [
    "ped = import('test.ped.txt')\n",
    "head(ped)"
   ]
  },
  {
   "cell_type": "code",
   "execution_count": 5,
   "metadata": {},
   "outputs": [
    {
     "data": {
      "text/html": [
       "<table>\n",
       "<thead><tr><th scope=col>T1</th><th scope=col>T2</th><th scope=col>T3</th><th scope=col>X</th><th scope=col>ID1</th><th scope=col>ID2</th><th scope=col>ID3</th><th scope=col>ID4</th><th scope=col>ID5</th><th scope=col>ID6</th></tr></thead>\n",
       "<tbody>\n",
       "\t<tr><td>0</td><td>0</td><td>0</td><td>Y</td><td>0</td><td>0</td><td>0</td><td>1</td><td>1</td><td>1</td></tr>\n",
       "\t<tr><td>0</td><td>0</td><td>0</td><td>T</td><td>0</td><td>0</td><td>1</td><td>1</td><td>1</td><td>1</td></tr>\n",
       "\t<tr><td>0</td><td>0</td><td>0</td><td>M</td><td>1</td><td>0</td><td>1</td><td>1</td><td>1</td><td>1</td></tr>\n",
       "\t<tr><td>0</td><td>0</td><td>0</td><td>Z</td><td>0</td><td>0</td><td>0</td><td>0</td><td>0</td><td>0</td></tr>\n",
       "</tbody>\n",
       "</table>\n"
      ],
      "text/latex": [
       "\\begin{tabular}{r|llllllllll}\n",
       " T1 & T2 & T3 & X & ID1 & ID2 & ID3 & ID4 & ID5 & ID6\\\\\n",
       "\\hline\n",
       "\t 0 & 0 & 0 & Y & 0 & 0 & 0 & 1 & 1 & 1\\\\\n",
       "\t 0 & 0 & 0 & T & 0 & 0 & 1 & 1 & 1 & 1\\\\\n",
       "\t 0 & 0 & 0 & M & 1 & 0 & 1 & 1 & 1 & 1\\\\\n",
       "\t 0 & 0 & 0 & Z & 0 & 0 & 0 & 0 & 0 & 0\\\\\n",
       "\\end{tabular}\n"
      ],
      "text/markdown": [
       "\n",
       "| T1 | T2 | T3 | X | ID1 | ID2 | ID3 | ID4 | ID5 | ID6 |\n",
       "|---|---|---|---|---|---|---|---|---|---|\n",
       "| 0 | 0 | 0 | Y | 0 | 0 | 0 | 1 | 1 | 1 |\n",
       "| 0 | 0 | 0 | T | 0 | 0 | 1 | 1 | 1 | 1 |\n",
       "| 0 | 0 | 0 | M | 1 | 0 | 1 | 1 | 1 | 1 |\n",
       "| 0 | 0 | 0 | Z | 0 | 0 | 0 | 0 | 0 | 0 |\n",
       "\n"
      ],
      "text/plain": [
       "  T1 T2 T3 X ID1 ID2 ID3 ID4 ID5 ID6\n",
       "1 0  0  0  Y 0   0   0   1   1   1  \n",
       "2 0  0  0  T 0   0   1   1   1   1  \n",
       "3 0  0  0  M 1   0   1   1   1   1  \n",
       "4 0  0  0  Z 0   0   0   0   0   0  "
      ]
     },
     "metadata": {},
     "output_type": "display_data"
    }
   ],
   "source": [
    "genescore = import('test.gene.txt')\n",
    "head(genescore)"
   ]
  },
  {
   "cell_type": "code",
   "execution_count": 23,
   "metadata": {},
   "outputs": [
    {
     "data": {
      "text/html": [
       "<table>\n",
       "<thead><tr><th scope=col>ID</th><th scope=col>COV1</th><th scope=col>COV2</th><th scope=col>PHENO</th><th scope=col>Y</th><th scope=col>T</th><th scope=col>M</th></tr></thead>\n",
       "<tbody>\n",
       "\t<tr><td>ID1</td><td>1  </td><td>2  </td><td>0  </td><td>0  </td><td>0  </td><td>1  </td></tr>\n",
       "\t<tr><td>ID3</td><td>2  </td><td>3  </td><td>0  </td><td>0  </td><td>1  </td><td>1  </td></tr>\n",
       "\t<tr><td>ID4</td><td>1  </td><td>3  </td><td>0  </td><td>1  </td><td>1  </td><td>1  </td></tr>\n",
       "\t<tr><td>ID5</td><td>2  </td><td>1  </td><td>1  </td><td>1  </td><td>1  </td><td>1  </td></tr>\n",
       "\t<tr><td>ID2</td><td>0  </td><td>5  </td><td>1  </td><td>0  </td><td>0  </td><td>0  </td></tr>\n",
       "</tbody>\n",
       "</table>\n"
      ],
      "text/latex": [
       "\\begin{tabular}{r|lllllll}\n",
       " ID & COV1 & COV2 & PHENO & Y & T & M\\\\\n",
       "\\hline\n",
       "\t ID1 & 1   & 2   & 0   & 0   & 0   & 1  \\\\\n",
       "\t ID3 & 2   & 3   & 0   & 0   & 1   & 1  \\\\\n",
       "\t ID4 & 1   & 3   & 0   & 1   & 1   & 1  \\\\\n",
       "\t ID5 & 2   & 1   & 1   & 1   & 1   & 1  \\\\\n",
       "\t ID2 & 0   & 5   & 1   & 0   & 0   & 0  \\\\\n",
       "\\end{tabular}\n"
      ],
      "text/markdown": [
       "\n",
       "| ID | COV1 | COV2 | PHENO | Y | T | M |\n",
       "|---|---|---|---|---|---|---|\n",
       "| ID1 | 1   | 2   | 0   | 0   | 0   | 1   |\n",
       "| ID3 | 2   | 3   | 0   | 0   | 1   | 1   |\n",
       "| ID4 | 1   | 3   | 0   | 1   | 1   | 1   |\n",
       "| ID5 | 2   | 1   | 1   | 1   | 1   | 1   |\n",
       "| ID2 | 0   | 5   | 1   | 0   | 0   | 0   |\n",
       "\n"
      ],
      "text/plain": [
       "  ID  COV1 COV2 PHENO Y T M\n",
       "1 ID1 1    2    0     0 0 1\n",
       "2 ID3 2    3    0     0 1 1\n",
       "3 ID4 1    3    0     1 1 1\n",
       "4 ID5 2    1    1     1 1 1\n",
       "5 ID2 0    5    1     0 0 0"
      ]
     },
     "metadata": {},
     "output_type": "display_data"
    }
   ],
   "source": [
    "Y = genescore %>% filter(X=='Y') %>% select(!!ped[['ID']])\n",
    "T = genescore %>% filter(X=='T') %>% select(!!ped[['ID']])\n",
    "ped$Y = genescore %>% filter(X=='Y') %>% select(!!ped[['ID']]) %>% t(.)\n",
    "ped$T = genescore %>% filter(X=='T') %>% select(!!ped[['ID']]) %>% t(.)\n",
    "ped$M = genescore %>% filter(X=='M') %>% select(!!ped[['ID']]) %>% t(.)\n",
    "ped"
   ]
  },
  {
   "cell_type": "code",
   "execution_count": 19,
   "metadata": {},
   "outputs": [
    {
     "data": {
      "text/plain": [
       "\n",
       "Call:\n",
       "glm(formula = PHENO ~ Y + T + COV1 + COV2, family = \"binomial\", \n",
       "    data = ped)\n",
       "\n",
       "Deviance Residuals: \n",
       "[1]  0  0  0  0  0\n",
       "\n",
       "Coefficients:\n",
       "              Estimate Std. Error z value Pr(>|z|)\n",
       "(Intercept)    -466.76 1249762.74       0        1\n",
       "Y               245.66  614494.86       0        1\n",
       "T              -343.92  888558.07       0        1\n",
       "COV1            245.66  668026.30       0        1\n",
       "COV2             98.26  262021.47       0        1\n",
       "\n",
       "(Dispersion parameter for binomial family taken to be 1)\n",
       "\n",
       "    Null deviance: 6.7301e+00  on 4  degrees of freedom\n",
       "Residual deviance: 2.1434e-10  on 0  degrees of freedom\n",
       "AIC: 10\n",
       "\n",
       "Number of Fisher Scoring iterations: 23\n"
      ]
     },
     "metadata": {},
     "output_type": "display_data"
    }
   ],
   "source": [
    "g1 = glm(PHENO ~ Y + T + COV1 + COV2, data=ped, family = 'binomial')\n",
    "summary(g1)"
   ]
  },
  {
   "cell_type": "code",
   "execution_count": 20,
   "metadata": {},
   "outputs": [
    {
     "data": {
      "text/plain": [
       "\n",
       "Call:\n",
       "glm(formula = PHENO ~ COV1 + COV2, family = \"binomial\", data = ped)\n",
       "\n",
       "Deviance Residuals: \n",
       "      1        2        3        4        5  \n",
       "-1.1335  -0.7355  -1.0551   1.5251   1.0942  \n",
       "\n",
       "Coefficients:\n",
       "            Estimate Std. Error z value Pr(>|z|)\n",
       "(Intercept)   1.1515     5.3784   0.214    0.830\n",
       "COV1         -0.8746     2.0773  -0.421    0.674\n",
       "COV2         -0.1905     1.1407  -0.167    0.867\n",
       "\n",
       "(Dispersion parameter for binomial family taken to be 1)\n",
       "\n",
       "    Null deviance: 6.7301  on 4  degrees of freedom\n",
       "Residual deviance: 6.4623  on 2  degrees of freedom\n",
       "AIC: 12.462\n",
       "\n",
       "Number of Fisher Scoring iterations: 4\n"
      ]
     },
     "metadata": {},
     "output_type": "display_data"
    }
   ],
   "source": [
    "g0 =  glm(PHENO ~ COV1 + COV2, data=ped, family = 'binomial')\n",
    "summary(g0)"
   ]
  },
  {
   "cell_type": "code",
   "execution_count": 22,
   "metadata": {},
   "outputs": [
    {
     "data": {
      "text/html": [
       "<table>\n",
       "<thead><tr><th scope=col>#Df</th><th scope=col>LogLik</th><th scope=col>Df</th><th scope=col>Chisq</th><th scope=col>Pr(&gt;Chisq)</th></tr></thead>\n",
       "<tbody>\n",
       "\t<tr><td>3            </td><td>-3.231168e+00</td><td>NA           </td><td>      NA     </td><td>        NA   </td></tr>\n",
       "\t<tr><td>5            </td><td>-1.071667e-10</td><td> 2           </td><td>6.462336     </td><td>0.03951133   </td></tr>\n",
       "</tbody>\n",
       "</table>\n"
      ],
      "text/latex": [
       "\\begin{tabular}{r|lllll}\n",
       " \\#Df & LogLik & Df & Chisq & Pr(>Chisq)\\\\\n",
       "\\hline\n",
       "\t 3             & -3.231168e+00 & NA            &       NA      &         NA   \\\\\n",
       "\t 5             & -1.071667e-10 &  2            & 6.462336      & 0.03951133   \\\\\n",
       "\\end{tabular}\n"
      ],
      "text/markdown": [
       "\n",
       "| #Df | LogLik | Df | Chisq | Pr(>Chisq) |\n",
       "|---|---|---|---|---|\n",
       "| 3             | -3.231168e+00 | NA            |       NA      |         NA    |\n",
       "| 5             | -1.071667e-10 |  2            | 6.462336      | 0.03951133    |\n",
       "\n"
      ],
      "text/plain": [
       "  #Df LogLik        Df Chisq    Pr(>Chisq)\n",
       "1 3   -3.231168e+00 NA       NA         NA\n",
       "2 5   -1.071667e-10  2 6.462336 0.03951133"
      ]
     },
     "metadata": {},
     "output_type": "display_data"
    }
   ],
   "source": [
    "lrtest(g0, g1)"
   ]
  },
  {
   "cell_type": "code",
   "execution_count": 24,
   "metadata": {},
   "outputs": [
    {
     "data": {
      "text/plain": [
       "\n",
       "Call:\n",
       "glm(formula = PHENO ~ M + T + COV1 + COV2, family = \"binomial\", \n",
       "    data = ped)\n",
       "\n",
       "Deviance Residuals: \n",
       "[1]  0  0  0  0  0\n",
       "\n",
       "Coefficients:\n",
       "              Estimate Std. Error z value Pr(>|z|)\n",
       "(Intercept)  1.474e+02  4.814e+05       0        1\n",
       "M           -1.228e+02  3.072e+05       0        1\n",
       "T            2.457e+01  2.071e+05       0        1\n",
       "COV1        -8.698e-15  1.853e+05       0        1\n",
       "COV2        -2.457e+01  9.264e+04       0        1\n",
       "\n",
       "(Dispersion parameter for binomial family taken to be 1)\n",
       "\n",
       "    Null deviance: 6.7301e+00  on 4  degrees of freedom\n",
       "Residual deviance: 2.1434e-10  on 0  degrees of freedom\n",
       "AIC: 10\n",
       "\n",
       "Number of Fisher Scoring iterations: 23\n"
      ]
     },
     "metadata": {},
     "output_type": "display_data"
    }
   ],
   "source": [
    "g2 = glm(PHENO ~ M + T + COV1 + COV2, data=ped, family = 'binomial')\n",
    "summary(g2)"
   ]
  },
  {
   "cell_type": "code",
   "execution_count": 25,
   "metadata": {},
   "outputs": [
    {
     "data": {
      "text/html": [
       "<table>\n",
       "<thead><tr><th scope=col>#Df</th><th scope=col>LogLik</th><th scope=col>Df</th><th scope=col>Chisq</th><th scope=col>Pr(&gt;Chisq)</th></tr></thead>\n",
       "<tbody>\n",
       "\t<tr><td>3            </td><td>-3.231168e+00</td><td>NA           </td><td>      NA     </td><td>        NA   </td></tr>\n",
       "\t<tr><td>5            </td><td>-1.071667e-10</td><td> 2           </td><td>6.462336     </td><td>0.03951133   </td></tr>\n",
       "</tbody>\n",
       "</table>\n"
      ],
      "text/latex": [
       "\\begin{tabular}{r|lllll}\n",
       " \\#Df & LogLik & Df & Chisq & Pr(>Chisq)\\\\\n",
       "\\hline\n",
       "\t 3             & -3.231168e+00 & NA            &       NA      &         NA   \\\\\n",
       "\t 5             & -1.071667e-10 &  2            & 6.462336      & 0.03951133   \\\\\n",
       "\\end{tabular}\n"
      ],
      "text/markdown": [
       "\n",
       "| #Df | LogLik | Df | Chisq | Pr(>Chisq) |\n",
       "|---|---|---|---|---|\n",
       "| 3             | -3.231168e+00 | NA            |       NA      |         NA    |\n",
       "| 5             | -1.071667e-10 |  2            | 6.462336      | 0.03951133    |\n",
       "\n"
      ],
      "text/plain": [
       "  #Df LogLik        Df Chisq    Pr(>Chisq)\n",
       "1 3   -3.231168e+00 NA       NA         NA\n",
       "2 5   -1.071667e-10  2 6.462336 0.03951133"
      ]
     },
     "metadata": {},
     "output_type": "display_data"
    }
   ],
   "source": [
    "lrtest(g0, g2)"
   ]
  },
  {
   "cell_type": "code",
   "execution_count": null,
   "metadata": {},
   "outputs": [],
   "source": []
  }
 ],
 "metadata": {
  "kernelspec": {
   "display_name": "R",
   "language": "R",
   "name": "ir"
  },
  "language_info": {
   "codemirror_mode": "r",
   "file_extension": ".r",
   "mimetype": "text/x-r-source",
   "name": "R",
   "pygments_lexer": "r",
   "version": "3.6.1"
  }
 },
 "nbformat": 4,
 "nbformat_minor": 2
}
